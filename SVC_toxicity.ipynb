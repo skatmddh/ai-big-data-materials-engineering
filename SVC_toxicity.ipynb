{
  "nbformat": 4,
  "nbformat_minor": 0,
  "metadata": {
    "colab": {
      "name": "SVC_toxicity.ipynb",
      "provenance": [],
      "collapsed_sections": []
    },
    "kernelspec": {
      "name": "python3",
      "display_name": "Python 3"
    },
    "language_info": {
      "name": "python"
    }
  },
  "cells": [
    {
      "cell_type": "code",
      "metadata": {
        "id": "evAzvD7ev_yi",
        "colab": {
          "base_uri": "https://localhost:8080/"
        },
        "outputId": "b19df1c5-6546-45d7-bd2f-51e87d77b9c0"
      },
      "source": [
        "pip install rdkit-pypi"
      ],
      "execution_count": null,
      "outputs": [
        {
          "output_type": "stream",
          "name": "stdout",
          "text": [
            "Looking in indexes: https://pypi.org/simple, https://us-python.pkg.dev/colab-wheels/public/simple/\n",
            "Collecting rdkit-pypi\n",
            "  Downloading rdkit_pypi-2022.3.5-cp37-cp37m-manylinux_2_17_x86_64.manylinux2014_x86_64.whl (36.8 MB)\n",
            "\u001b[K     |████████████████████████████████| 36.8 MB 29 kB/s \n",
            "\u001b[?25hRequirement already satisfied: Pillow in /usr/local/lib/python3.7/dist-packages (from rdkit-pypi) (7.1.2)\n",
            "Requirement already satisfied: numpy in /usr/local/lib/python3.7/dist-packages (from rdkit-pypi) (1.21.6)\n",
            "Installing collected packages: rdkit-pypi\n",
            "Successfully installed rdkit-pypi-2022.3.5\n"
          ]
        }
      ]
    },
    {
      "cell_type": "code",
      "metadata": {
        "id": "zcnJVduTvxmK"
      },
      "source": [
        "import numpy as np\n",
        "from rdkit import Chem, DataStructs\n",
        "from rdkit.Chem import AllChem\n",
        "from sklearn.svm import SVC\n",
        "from sklearn.metrics import roc_auc_score, mean_squared_error, r2_score\n",
        "import matplotlib.pyplot as plt\n",
        "\n",
        "def read_data(filename):\n",
        "    f = open('sr-p53.smiles', 'r')\n",
        "    contents = f.readlines()\n",
        "\n",
        "    smiles = []\n",
        "    labels = []\n",
        "    for i in contents:\n",
        "        smi = i.split()[0]\n",
        "        label = int(i.split()[2].strip())\n",
        "\n",
        "        smiles.append(smi)\n",
        "        labels.append(label)\n",
        "\n",
        "    num_total = len(smiles)\n",
        "    rand_int = np.random.randint(num_total, size=(num_total,))\n",
        "    \n",
        "    return np.asarray(smiles)[rand_int], np.asarray(labels)[rand_int], num_total"
      ],
      "execution_count": null,
      "outputs": []
    },
    {
      "cell_type": "code",
      "metadata": {
        "id": "inCN7bV2u6Ly",
        "colab": {
          "base_uri": "https://localhost:8080/",
          "height": 287
        },
        "outputId": "c0d5def5-9828-4754-b9f3-12355b6b70a3"
      },
      "source": [
        "smiles, label, num_total = read_data('sr-p53.smiles') #실제로 읽어오는 단계"
      ],
      "execution_count": null,
      "outputs": [
        {
          "output_type": "error",
          "ename": "FileNotFoundError",
          "evalue": "ignored",
          "traceback": [
            "\u001b[0;31m---------------------------------------------------------------------------\u001b[0m",
            "\u001b[0;31mFileNotFoundError\u001b[0m                         Traceback (most recent call last)",
            "\u001b[0;32m<ipython-input-6-4bb3b81af154>\u001b[0m in \u001b[0;36m<module>\u001b[0;34m()\u001b[0m\n\u001b[0;32m----> 1\u001b[0;31m \u001b[0msmiles\u001b[0m\u001b[0;34m,\u001b[0m \u001b[0mlabel\u001b[0m\u001b[0;34m,\u001b[0m \u001b[0mnum_total\u001b[0m \u001b[0;34m=\u001b[0m \u001b[0mread_data\u001b[0m\u001b[0;34m(\u001b[0m\u001b[0;34m'sr-p53.smiles'\u001b[0m\u001b[0;34m)\u001b[0m \u001b[0;31m#실제로 읽어오는 단계\u001b[0m\u001b[0;34m\u001b[0m\u001b[0;34m\u001b[0m\u001b[0m\n\u001b[0m",
            "\u001b[0;32m<ipython-input-5-f5194b168212>\u001b[0m in \u001b[0;36mread_data\u001b[0;34m(filename)\u001b[0m\n\u001b[1;32m      7\u001b[0m \u001b[0;34m\u001b[0m\u001b[0m\n\u001b[1;32m      8\u001b[0m \u001b[0;32mdef\u001b[0m \u001b[0mread_data\u001b[0m\u001b[0;34m(\u001b[0m\u001b[0mfilename\u001b[0m\u001b[0;34m)\u001b[0m\u001b[0;34m:\u001b[0m\u001b[0;34m\u001b[0m\u001b[0;34m\u001b[0m\u001b[0m\n\u001b[0;32m----> 9\u001b[0;31m     \u001b[0mf\u001b[0m \u001b[0;34m=\u001b[0m \u001b[0mopen\u001b[0m\u001b[0;34m(\u001b[0m\u001b[0;34m'sr-p53.smiles'\u001b[0m\u001b[0;34m,\u001b[0m \u001b[0;34m'r'\u001b[0m\u001b[0;34m)\u001b[0m\u001b[0;34m\u001b[0m\u001b[0;34m\u001b[0m\u001b[0m\n\u001b[0m\u001b[1;32m     10\u001b[0m     \u001b[0mcontents\u001b[0m \u001b[0;34m=\u001b[0m \u001b[0mf\u001b[0m\u001b[0;34m.\u001b[0m\u001b[0mreadlines\u001b[0m\u001b[0;34m(\u001b[0m\u001b[0;34m)\u001b[0m\u001b[0;34m\u001b[0m\u001b[0;34m\u001b[0m\u001b[0m\n\u001b[1;32m     11\u001b[0m \u001b[0;34m\u001b[0m\u001b[0m\n",
            "\u001b[0;31mFileNotFoundError\u001b[0m: [Errno 2] No such file or directory: 'sr-p53.smiles'"
          ]
        }
      ]
    },
    {
      "cell_type": "code",
      "metadata": {
        "id": "kacbS-zOzjkC",
        "colab": {
          "base_uri": "https://localhost:8080/",
          "height": 166
        },
        "outputId": "6328a3bd-8d45-403f-b6fe-4c3c533b9fd3"
      },
      "source": [
        "num_total"
      ],
      "execution_count": null,
      "outputs": [
        {
          "output_type": "error",
          "ename": "NameError",
          "evalue": "ignored",
          "traceback": [
            "\u001b[0;31m---------------------------------------------------------------------------\u001b[0m",
            "\u001b[0;31mNameError\u001b[0m                                 Traceback (most recent call last)",
            "\u001b[0;32m<ipython-input-7-907268709e3f>\u001b[0m in \u001b[0;36m<module>\u001b[0;34m()\u001b[0m\n\u001b[0;32m----> 1\u001b[0;31m \u001b[0mnum_total\u001b[0m\u001b[0;34m\u001b[0m\u001b[0;34m\u001b[0m\u001b[0m\n\u001b[0m",
            "\u001b[0;31mNameError\u001b[0m: name 'num_total' is not defined"
          ]
        }
      ]
    },
    {
      "cell_type": "code",
      "metadata": {
        "id": "m-d053_7w1rq"
      },
      "source": [
        "fps_total = []\n",
        "tox_total = []\n",
        "\n",
        "for i in range(num_total): #600개에 대한 fingerprint만들기, 일단 범위부터.\n",
        "    smi = smiles[i].split()[0]\n",
        "    tt = label[i]\n",
        "    m = Chem.MolFromSmiles(smi)\n",
        "    fp = Chem.AllChem.GetMorganFingerprintAsBitVect(m,2, nBits=2048, useChirality=False) #fingerprint\n",
        "    arr = np.zeros((1,))\n",
        "    DataStructs.ConvertToNumpyArray(fp,arr)\n",
        "    fps_total.append(arr)\n",
        "    tox_total.append(tt)"
      ],
      "execution_count": null,
      "outputs": []
    },
    {
      "cell_type": "code",
      "metadata": {
        "id": "n46aHcwX30mC"
      },
      "source": [
        "fps_total = np.asarray(fps_total)\n",
        "tox_total = np.asarray(tox_total)"
      ],
      "execution_count": null,
      "outputs": []
    },
    {
      "cell_type": "code",
      "metadata": {
        "id": "f8Rguu70374F",
        "colab": {
          "base_uri": "https://localhost:8080/"
        },
        "outputId": "8e7e3ab9-3ec2-4a07-f262-9929059c7ccf"
      },
      "source": [
        "num_total = fps_total.shape[0]\n",
        "num_train = int(num_total*0.8) #int는 정수로 바꾸는 거\n",
        "\n",
        "num_total, num_train, (num_total-num_train)"
      ],
      "execution_count": null,
      "outputs": [
        {
          "output_type": "execute_result",
          "data": {
            "text/plain": [
              "(600, 480, 120)"
            ]
          },
          "metadata": {},
          "execution_count": 10
        }
      ]
    },
    {
      "cell_type": "code",
      "metadata": {
        "id": "PHKMY4ns3-VJ"
      },
      "source": [
        "fps_train = fps_total[0:num_train]\n",
        "tox_train = tox_total[0:num_train]\n",
        "fps_test = fps_total[num_train:]\n",
        "tox_test = tox_total[num_train:]"
      ],
      "execution_count": null,
      "outputs": []
    },
    {
      "cell_type": "code",
      "metadata": {
        "id": "81YqHF_55MMe",
        "colab": {
          "base_uri": "https://localhost:8080/"
        },
        "outputId": "2224b03d-2c07-49a9-acf0-ebb0140015c8"
      },
      "source": [
        "#kernel in ('linear', 'rbf', 'poly'):\n",
        "clf = SVC(kernel='linear', gamma=10)\n",
        "clf.fit(fps_train, tox_train)"
      ],
      "execution_count": null,
      "outputs": [
        {
          "output_type": "execute_result",
          "data": {
            "text/plain": [
              "SVC(gamma=10, kernel='linear')"
            ]
          },
          "metadata": {},
          "execution_count": 12
        }
      ]
    },
    {
      "cell_type": "code",
      "metadata": {
        "id": "DO_e-X4b5zlt",
        "colab": {
          "base_uri": "https://localhost:8080/"
        },
        "outputId": "9efda9b8-80e3-4c77-815e-20c79ae0bc45"
      },
      "source": [
        "tox_pred = clf.predict(fps_test)\n",
        "r2 = r2_score(tox_test, tox_pred)\n",
        "mse = mean_squared_error(tox_test, tox_pred)\n",
        "r2, mse "
      ],
      "execution_count": null,
      "outputs": [
        {
          "output_type": "execute_result",
          "data": {
            "text/plain": [
              "(0.45930723739791623, 0.13333333333333333)"
            ]
          },
          "metadata": {},
          "execution_count": 13
        }
      ]
    }
  ]
}