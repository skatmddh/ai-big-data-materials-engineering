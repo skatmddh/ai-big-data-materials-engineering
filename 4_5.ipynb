{
  "nbformat": 4,
  "nbformat_minor": 0,
  "metadata": {
    "colab": {
      "name": "4/5.ipynb",
      "provenance": [],
      "collapsed_sections": []
    },
    "kernelspec": {
      "name": "python3",
      "display_name": "Python 3"
    },
    "language_info": {
      "name": "python"
    }
  },
  "cells": [
    {
      "cell_type": "code",
      "execution_count": null,
      "metadata": {
        "colab": {
          "base_uri": "https://localhost:8080/"
        },
        "id": "mRGN9I8r8gM6",
        "outputId": "2a16928d-7dc2-446d-d93b-512a2dee2ad0"
      },
      "outputs": [
        {
          "output_type": "stream",
          "name": "stdout",
          "text": [
            "Collecting rdkit-pypi\n",
            "  Downloading rdkit_pypi-2022.3.1-cp37-cp37m-manylinux_2_17_x86_64.manylinux2014_x86_64.whl (22.5 MB)\n",
            "\u001b[K     |████████████████████████████████| 22.5 MB 70.0 MB/s \n",
            "\u001b[?25hRequirement already satisfied: Pillow in /usr/local/lib/python3.7/dist-packages (from rdkit-pypi) (7.1.2)\n",
            "Requirement already satisfied: numpy>=1.19 in /usr/local/lib/python3.7/dist-packages (from rdkit-pypi) (1.21.5)\n",
            "Installing collected packages: rdkit-pypi\n",
            "Successfully installed rdkit-pypi-2022.3.1\n"
          ]
        }
      ],
      "source": [
        "pip install rdkit-pypi"
      ]
    },
    {
      "cell_type": "code",
      "source": [
        "from rdkit import Chem\n",
        "from rdkit.Chem import Draw\n",
        "from rdkit.Chem import AllChem\n",
        "from rdkit.Chem.Draw import IPythonConsole"
      ],
      "metadata": {
        "id": "SlOc-_7X8s7Y"
      },
      "execution_count": null,
      "outputs": []
    },
    {
      "cell_type": "code",
      "source": [
        "smi = 'C1=CC=C2C=CC=CC2=C1'\n",
        "m = Chem.MolFromSmiles(smi)\n",
        "m"
      ],
      "metadata": {
        "colab": {
          "base_uri": "https://localhost:8080/",
          "height": 167
        },
        "id": "nuqqNjpD888E",
        "outputId": "847bb6f8-d5b1-4ca2-8325-8b5c1d1acf15"
      },
      "execution_count": null,
      "outputs": [
        {
          "output_type": "execute_result",
          "data": {
            "text/plain": [
              "<rdkit.Chem.rdchem.Mol at 0x7faf31788c60>"
            ],
            "image/png": "[encoded data removed]"
          },
          "metadata": {},
          "execution_count": 4
        }
      ]
    },
    {
      "cell_type": "code",
      "source": [
        "m.GetNumAtoms()"
      ],
      "metadata": {
        "colab": {
          "base_uri": "https://localhost:8080/"
        },
        "id": "c2C9yY3B9hA1",
        "outputId": "0c8217f1-a0a5-43df-912d-c9fce4dabae1"
      },
      "execution_count": null,
      "outputs": [
        {
          "output_type": "execute_result",
          "data": {
            "text/plain": [
              "10"
            ]
          },
          "metadata": {},
          "execution_count": 5
        }
      ]
    },
    {
      "cell_type": "markdown",
      "source": [
        "No hydrogen"
      ],
      "metadata": {
        "id": "qQGRThxc9oLS"
      }
    },
    {
      "cell_type": "code",
      "source": [
        "m2 = Chem.AddHs(m)\n",
        "m2"
      ],
      "metadata": {
        "colab": {
          "base_uri": "https://localhost:8080/",
          "height": 167
        },
        "id": "RyT0cm7G9rLl",
        "outputId": "26d64316-584e-40ae-95fd-dea75234094b"
      },
      "execution_count": null,
      "outputs": [
        {
          "output_type": "execute_result",
          "data": {
            "text/plain": [
              "<rdkit.Chem.rdchem.Mol at 0x7faf318730d0>"
            ],
            "image/png": "[encoded data removed]"
          },
          "metadata": {},
          "execution_count": 6
        }
      ]
    },
    {
      "cell_type": "code",
      "source": [
        "m2.GetNumAtoms()"
      ],
      "metadata": {
        "colab": {
          "base_uri": "https://localhost:8080/"
        },
        "id": "YZ7Rszsk9yW4",
        "outputId": "da00102d-2efd-499f-b03c-0bbeef4d0758"
      },
      "execution_count": null,
      "outputs": [
        {
          "output_type": "execute_result",
          "data": {
            "text/plain": [
              "18"
            ]
          },
          "metadata": {},
          "execution_count": 8
        }
      ]
    },
    {
      "cell_type": "code",
      "source": [
        "from rdkit.Chem.Descriptors import ExactMolWt\n",
        "from rdkit.Chem.Crippen import MolLogP\n",
        "from rdkit.Chem.rdMolDescriptors import CalcTPSA\n",
        "from rdkit.Chem.QED import qed"
      ],
      "metadata": {
        "id": "j9OHtfsO-Gjq"
      },
      "execution_count": null,
      "outputs": []
    },
    {
      "cell_type": "code",
      "source": [
        "molWt = ExactMolWt(m)\n",
        "logP = MolLogP(m)\n",
        "TPSA = CalcTPSA(m)\n",
        "_qed = qed(m)\n",
        "molWt, logP, TPSA, _qed"
      ],
      "metadata": {
        "colab": {
          "base_uri": "https://localhost:8080/"
        },
        "id": "9RG3hALN-cOa",
        "outputId": "7cd586c6-4d80-4ad8-800b-83c470d7e8b9"
      },
      "execution_count": null,
      "outputs": [
        {
          "output_type": "execute_result",
          "data": {
            "text/plain": [
              "(128.062600256, 2.839800000000001, 0.0, 0.5114311994891171)"
            ]
          },
          "metadata": {},
          "execution_count": 12
        }
      ]
    },
    {
      "cell_type": "code",
      "source": [
        "fp_naph = Chem.AllChem.GetMorganFingerprint(m,2)"
      ],
      "metadata": {
        "id": "IeB2J-Bc_C-Q"
      },
      "execution_count": null,
      "outputs": []
    },
    {
      "cell_type": "markdown",
      "source": [
        "m,2번 반복"
      ],
      "metadata": {
        "id": "BqgYF0of_em2"
      }
    },
    {
      "cell_type": "code",
      "source": [
        "smi2 = 'C1=CC=C2C(=C1)C=CC3=CC=CC=C32'"
      ],
      "metadata": {
        "id": "MyIe5gAy_fwB"
      },
      "execution_count": null,
      "outputs": []
    },
    {
      "cell_type": "code",
      "source": [
        "m3 = Chem.MolFromSmiles(smi2)\n",
        "m3"
      ],
      "metadata": {
        "colab": {
          "base_uri": "https://localhost:8080/",
          "height": 167
        },
        "id": "Qhl84L7B_-qf",
        "outputId": "a9b5ebcd-6c4e-4b15-c0da-975e33665012"
      },
      "execution_count": null,
      "outputs": [
        {
          "output_type": "execute_result",
          "data": {
            "text/plain": [
              "<rdkit.Chem.rdchem.Mol at 0x7faf31597e40>"
            ],
            "image/png": "[encoded data removed]"
          },
          "metadata": {},
          "execution_count": 16
        }
      ]
    },
    {
      "cell_type": "code",
      "source": [
        "fp_phen = Chem.AllChem.GetMorganFingerprint(m3,2)"
      ],
      "metadata": {
        "id": "cb7ZDglX_5Jx"
      },
      "execution_count": null,
      "outputs": []
    },
    {
      "cell_type": "code",
      "source": [
        "from rdkit import DataStructs\n",
        "similarity = DataStructs.TanimotoSimilarity(fp_naph, fp_phen)\n",
        "similarity"
      ],
      "metadata": {
        "colab": {
          "base_uri": "https://localhost:8080/"
        },
        "id": "0xsnYmmJARIQ",
        "outputId": "6bf64e93-fc29-4963-890c-5f686a12c568"
      },
      "execution_count": null,
      "outputs": [
        {
          "output_type": "execute_result",
          "data": {
            "text/plain": [
              "0.5652173913043478"
            ]
          },
          "metadata": {},
          "execution_count": 19
        }
      ]
    }
  ]
}