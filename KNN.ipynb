{
  "nbformat": 4,
  "nbformat_minor": 0,
  "metadata": {
    "colab": {
      "name": "KNN.ipynb",
      "provenance": [],
      "collapsed_sections": []
    },
    "kernelspec": {
      "name": "python3",
      "display_name": "Python 3"
    },
    "language_info": {
      "name": "python"
    }
  },
  "cells": [
    {
      "cell_type": "code",
      "metadata": {
        "id": "XMeQ2dPX103Z"
      },
      "source": [
        "from sklearn.datasets import load_iris\n",
        "iris = load_iris()\n",
        "print(iris.data)"
      ],
      "execution_count": null,
      "outputs": []
    },
    {
      "cell_type": "code",
      "metadata": {
        "id": "gXV-JAn02U_L"
      },
      "source": [
        "# 4개의 특징 이름을 출력한다. \n",
        "print(iris.feature_names)"
      ],
      "execution_count": null,
      "outputs": []
    },
    {
      "cell_type": "code",
      "metadata": {
        "id": "wj2jIF2hm8EW"
      },
      "source": [
        "# 정수는 꽃의 종류를 나타낸다.: 0 = setosa, 1=versicolor, 2=virginica\n",
        "print(iris.target)"
      ],
      "execution_count": null,
      "outputs": []
    },
    {
      "cell_type": "code",
      "metadata": {
        "id": "TK4uePyt6Hhg"
      },
      "source": [
        "from sklearn.model_selection import train_test_split\n",
        "\n",
        "X = iris.data\n",
        "y = iris.target\n",
        "\n",
        "X_train, X_test, y_train, y_test = train_test_split(X,y,test_size=0.2, random_state=4)\n",
        "\n",
        "print(X_train.shape)\n",
        "print(X_test.shape)\n",
        "\n",
        "\n",
        "# (80:20)으로 분할한다. \n"
      ],
      "execution_count": null,
      "outputs": []
    },
    {
      "cell_type": "code",
      "metadata": {
        "id": "g4minbWXnDaF"
      },
      "source": [
        "from sklearn.neighbors import KNeighborsClassifier\n",
        "from sklearn import metrics\n",
        "\n",
        "#학습단계\n",
        "\n",
        "knn = KNeighborsClassifier(n_neighbors=5)\n",
        "knn.fit(X_train,y_train)\n",
        "\n",
        "#테스트단계\n",
        "\n",
        "y_pred = knn.predict(X_test)\n",
        "\n",
        "\n",
        "#정확도 점수 출력\n",
        "\n",
        "scores = metrics.accuracy_score(y_test,y_pred)\n",
        "print(scores)"
      ],
      "execution_count": null,
      "outputs": []
    },
    {
      "cell_type": "code",
      "metadata": {
        "id": "Wz79ffIBnGb4"
      },
      "source": [
        "\n",
        "#0 = setosa, 1=versicolor, 2=virginica\n",
        "classes = {0:'setosa', 1:'versicolor', 2:'virginica'}\n",
        "# 아직 보지 못한 새로운 데이터를 제시해보자. \n",
        "\n",
        "x_new = [[3.4, 5.2, 1.2, 2.2],[5.4, 1.2, 1.2, 3.2]]\n",
        "\n",
        "y_predict = knn.predict(x_new)\n",
        "\n",
        "print(classes[y_predict[1]])\n"
      ],
      "execution_count": null,
      "outputs": []
    }
  ]
}