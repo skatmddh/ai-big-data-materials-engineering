{
  "nbformat": 4,
  "nbformat_minor": 0,
  "metadata": {
    "kernelspec": {
      "display_name": "Python 3",
      "language": "python",
      "name": "python3"
    },
    "language_info": {
      "codemirror_mode": {
        "name": "ipython",
        "version": 3
      },
      "file_extension": ".py",
      "mimetype": "text/x-python",
      "name": "python",
      "nbconvert_exporter": "python",
      "pygments_lexer": "ipython3",
      "version": "3.6.3"
    },
    "colab": {
      "name": "0412 prediction_SVR.ipynb",
      "provenance": [],
      "collapsed_sections": []
    }
  },
  "cells": [
    {
      "cell_type": "code",
      "metadata": {
        "id": "W4uCVoiztLS_",
        "colab": {
          "base_uri": "https://localhost:8080/"
        },
        "outputId": "eb6a0011-6e10-4b19-a389-2dc7d68038f0"
      },
      "source": [
        "pip install rdkit-pypi"
      ],
      "execution_count": null,
      "outputs": [
        {
          "output_type": "stream",
          "name": "stdout",
          "text": [
            "Collecting rdkit-pypi\n",
            "  Downloading rdkit_pypi-2022.3.1-cp37-cp37m-manylinux_2_17_x86_64.manylinux2014_x86_64.whl (22.5 MB)\n",
            "\u001b[K     |████████████████████████████████| 22.5 MB 74.7 MB/s \n",
            "\u001b[?25hRequirement already satisfied: numpy>=1.19 in /usr/local/lib/python3.7/dist-packages (from rdkit-pypi) (1.21.5)\n",
            "Requirement already satisfied: Pillow in /usr/local/lib/python3.7/dist-packages (from rdkit-pypi) (7.1.2)\n",
            "Installing collected packages: rdkit-pypi\n",
            "Successfully installed rdkit-pypi-2022.3.1\n"
          ]
        }
      ]
    },
    {
      "cell_type": "code",
      "source": [
        "import numpy as np\n",
        "from rdkit import Chem\n",
        "from rdkit.Chem.Crippen import MolLogP\n",
        "from rdkit.Chem.QED import qed\n",
        "from rdkit import Chem, DataStructs\n",
        "from rdkit.Chem import AllChem\n",
        "from sklearn.svm import SVR\n",
        "from sklearn.metrics import mean_squared_error, r2_score\n",
        "from scipy import stats\n",
        "import matplotlib.pyplot as plt"
      ],
      "metadata": {
        "id": "MrJFjx066yXr"
      },
      "execution_count": null,
      "outputs": []
    },
    {
      "cell_type": "markdown",
      "metadata": {
        "id": "WyOzTPMQtJFW"
      },
      "source": [
        "the SMILES of molecules in ZINC dataset. \n",
        " http://zinc.docking.org/"
      ]
    },
    {
      "cell_type": "code",
      "metadata": {
        "collapsed": true,
        "id": "5RQPL8H6tJFX"
      },
      "source": [
        "num_mols = 5000 #다 이해할 필요는 없음\n",
        "f = open('0412 smiles.txt', 'r') #r을 f라는 변수로 read 한다\n",
        "contents = f.readlines()\n",
        "\n",
        "fps_total = []\n",
        "logP_total = []\n",
        "\n",
        "for i in range(num_mols):\n",
        "    smi = contents[i].split()[0] #smiles txt에서 하나를 가져와서 지정\n",
        "    m = Chem.MolFromSmiles(smi) #molecule 구조\n",
        "    fp = AllChem.GetMorganFingerprintAsBitVect(m,2) #fp 는 fingerprint\n",
        "    arr = np.zeros((1,))\n",
        "    DataStructs.ConvertToNumpyArray(fp,arr)\n",
        "    fps_total.append(arr)\n",
        "    logP_total.append(MolLogP(m))\n",
        "    \n",
        "fps_total = np.asarray(fps_total)\n",
        "logP_total = np.asarray(logP_total)"
      ],
      "execution_count": null,
      "outputs": []
    },
    {
      "cell_type": "markdown",
      "metadata": {
        "id": "S662B2sKtJFX"
      },
      "source": [
        "Then split the total dataset to a training and test set."
      ]
    },
    {
      "cell_type": "code",
      "metadata": {
        "id": "jBA9tCkltJFX",
        "colab": {
          "base_uri": "https://localhost:8080/"
        },
        "outputId": "169669d8-0f77-434a-a7b1-152e9c75d7cb"
      },
      "source": [
        "num_total = fps_total.shape[0]\n",
        "num_train = int(num_total*0.75)\n",
        "\n",
        "num_total, num_train, (num_total-num_train)"
      ],
      "execution_count": null,
      "outputs": [
        {
          "output_type": "execute_result",
          "data": {
            "text/plain": [
              "(5000, 4000, 1000)"
            ]
          },
          "metadata": {},
          "execution_count": 9
        }
      ]
    },
    {
      "cell_type": "code",
      "metadata": {
        "collapsed": true,
        "id": "IVhoR7CEtJFY"
      },
      "source": [
        "fps_train = fps_total[0:num_train]\n",
        "logP_train = logP_total[0:num_train]\n",
        "fps_test = fps_total[num_train:]\n",
        "logP_test = logP_total[num_train:]"
      ],
      "execution_count": null,
      "outputs": []
    },
    {
      "cell_type": "markdown",
      "metadata": {
        "id": "tYtga-XttJFY"
      },
      "source": [
        "a polynomial kernel and coefficients of the kernel as 5.0."
      ]
    },
    {
      "cell_type": "code",
      "metadata": {
        "id": "vGYelGHotJFY",
        "colab": {
          "base_uri": "https://localhost:8080/"
        },
        "outputId": "f9dce7d6-f2c6-46fb-f0b3-bb5618ed60bb"
      },
      "source": [
        "_gamma = 5.0 #support vector regression 이용\n",
        "#kernel{‘linear’, ‘poly’, ‘rbf’, ‘sigmoid’, ‘precomputed’}, default=’rbf’\n",
        "clf = SVR(kernel='poly' ,gamma=_gamma)\n",
        "clf.fit(fps_train, logP_train) #model 선정 후 training하는 것"
      ],
      "execution_count": null,
      "outputs": [
        {
          "output_type": "execute_result",
          "data": {
            "text/plain": [
              "SVR(gamma=5.0, kernel='poly')"
            ]
          },
          "metadata": {},
          "execution_count": 25
        }
      ]
    },
    {
      "cell_type": "code",
      "metadata": {
        "id": "2U8CIIKttJFZ",
        "colab": {
          "base_uri": "https://localhost:8080/"
        },
        "outputId": "850d77d4-cbd8-42eb-b480-5866ca6f1125"
      },
      "source": [
        "logP_pred = clf.predict(fps_test) #logP_pred랑 logP_test 비교해야됨\n",
        "r2 = r2_score(logP_test, logP_pred)\n",
        "mse = mean_squared_error(logP_test, logP_pred)\n",
        "r2, mse #결과를 봐도 잘 모르겠으니 그래프를 그리자\n",
        "#linear (0.6928536060740835, 0.5128344159228625)\n",
        "#poly (0.7598955374744331, 0.40089623135693314) \n",
        "#rbf (0.1030053133880332, 1.4976889043519528)\n",
        "#sigmoid (-2838.3513220151594, 4740.791705914236)\n",
        "#precomputed "
      ],
      "execution_count": null,
      "outputs": [
        {
          "output_type": "execute_result",
          "data": {
            "text/plain": [
              "(-2838.3513220151594, 4740.791705914236)"
            ]
          },
          "metadata": {},
          "execution_count": 22
        }
      ]
    },
    {
      "cell_type": "code",
      "metadata": {
        "id": "YjLwBUTltJFZ",
        "colab": {
          "base_uri": "https://localhost:8080/",
          "height": 279
        },
        "outputId": "75a4812b-b3c1-4ba2-e1b5-c5c23f439c60"
      },
      "source": [
        "slope, intercept, r_value, p_value, std_error = stats.linregress(logP_test, logP_pred) #선형 regression 통해서 slope 랑 intercept까지 찾는다\n",
        "yy = slope*logP_test+intercept\n",
        "plt.scatter(logP_test, logP_pred, color='black', s=1) #scatter plot 하겠다\n",
        "plt.plot(logP_test, yy, label='Predicted logP = '+str(round(slope,2))+'*True logP + '+str(round(intercept,2)))\n",
        "plt.xlabel('True logP')\n",
        "plt.ylabel('Predicted logP')\n",
        "plt.legend()\n",
        "plt.show()"
      ],
      "execution_count": null,
      "outputs": [
        {
          "output_type": "display_data",
          "data": {
            "text/plain": [
              "<Figure size 432x288 with 1 Axes>"
            ],
            "image/png": "[encoded data removed]"
          },
          "metadata": {
            "needs_background": "light"
          }
        }
      ]
    }
  ]
}