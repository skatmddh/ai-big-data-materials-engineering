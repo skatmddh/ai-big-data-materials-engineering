{
  "nbformat": 4,
  "nbformat_minor": 0,
  "metadata": {
    "colab": {
      "provenance": [],
      "authorship_tag": "ABX9TyNNuEzoAleKVrG/yhcQw69S",
      "include_colab_link": true
    },
    "kernelspec": {
      "name": "python3",
      "display_name": "Python 3"
    },
    "language_info": {
      "name": "python"
    }
  },
  "cells": [
    {
      "cell_type": "markdown",
      "metadata": {
        "id": "view-in-github",
        "colab_type": "text"
      },
      "source": [
        "<a href=\"https://colab.research.google.com/github/skatmddh/ai-big-data-materials-engineering/blob/main/LEET_left_and_right_split.ipynb\" target=\"_parent\"><img src=\"https://colab.research.google.com/assets/colab-badge.svg\" alt=\"Open In Colab\"/></a>"
      ]
    },
    {
      "cell_type": "code",
      "execution_count": null,
      "metadata": {
        "id": "gi7INa9lYOGp"
      },
      "outputs": [],
      "source": [
        "!pip install pypdf2\n",
        "\n",
        "import os\n",
        "import copy\n",
        "import PyPDF2"
      ]
    },
    {
      "cell_type": "code",
      "source": [
        "def check_split_path(file, outfile_path):\n",
        "    name = os.path.splitext(file)[0]\n",
        "    if outfile_path is None:\n",
        "        return f'{name}_split.pdf'\n",
        "    if os.path.isdir(outfile_path):\n",
        "        return os.path.join(outfile_path, f'{name}_split.pdf')"
      ],
      "metadata": {
        "id": "_qjIbcLWYj7P"
      },
      "execution_count": null,
      "outputs": []
    },
    {
      "cell_type": "code",
      "source": [
        "def check_axis(axis):\n",
        "    if axis in {0, 'vertical'}:\n",
        "        return 0\n",
        "    if axis in {1, 'horizontal'}:\n",
        "        return 1\n",
        "    raise ValueError(\n",
        "        \"Input `axis` within following. {0, 1, 'vertical', 'horizontal'}\")"
      ],
      "metadata": {
        "id": "8RPIf0CcYnUj"
      },
      "execution_count": null,
      "outputs": []
    },
    {
      "cell_type": "code",
      "source": [
        "def split_one_page_into_two(page, axis=0):\n",
        "    pages = [page, copy.copy(page)]\n",
        "\n",
        "    width_min, height_min = page.mediaBox.lowerLeft\n",
        "    width_max, height_max = page.mediaBox.upperRight\n",
        "\n",
        "    width_middle = (width_max + width_min) // 2\n",
        "    height_middle = (height_max + height_min) // 2\n",
        "\n",
        "    # split page along vertical axis\n",
        "    if axis == 0:\n",
        "        pages[0].mediaBox.upperRight = width_middle, height_max\n",
        "        pages[1].mediaBox.lowerLeft = width_middle, height_min\n",
        "    # split page along horizontal axis\n",
        "    elif axis == 1:\n",
        "        pages[0].mediaBox.lowerLeft = width_min, height_middle\n",
        "        pages[1].mediaBox.upperRight = width_max, height_middle\n",
        "    else:\n",
        "        raise ValueError('Input `axis`, 0 or 1.')\n",
        "    return pages"
      ],
      "metadata": {
        "id": "srDW1tg8Ypzb"
      },
      "execution_count": null,
      "outputs": []
    },
    {
      "cell_type": "code",
      "source": [
        "def split_pages_into_two(file, axis=0, outfile_path=None, return_path=False):\n",
        "    outfile_path = check_split_path(file, outfile_path)\n",
        "    axis = check_axis(axis)\n",
        "\n",
        "    source = PyPDF2.PdfFileReader(file)\n",
        "    output = PyPDF2.PdfFileWriter()\n",
        "\n",
        "    for i in range(source.getNumPages()):\n",
        "        page = source.getPage(i)\n",
        "        split_pages = split_one_page_into_two(page, axis)\n",
        "        for split_page in split_pages:\n",
        "            output.addPage(split_page)\n",
        "\n",
        "    with open(outfile_path, 'w+b') as outfile:\n",
        "        output.write(outfile)\n",
        "\n",
        "    if return_path:\n",
        "        return outfile_path\n",
        "    return\n",
        "\n",
        "\n",
        "\n",
        "split_pages_into_two('파일경로넣기')"
      ],
      "metadata": {
        "id": "RwMIniSKYsOd"
      },
      "execution_count": null,
      "outputs": []
    }
  ]
}